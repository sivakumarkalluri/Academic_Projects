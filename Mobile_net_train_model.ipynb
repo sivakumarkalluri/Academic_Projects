{
 "cells": [
  {
   "cell_type": "code",
   "execution_count": 1,
   "id": "6651b76c",
   "metadata": {},
   "outputs": [
    {
     "name": "stdout",
     "output_type": "stream",
     "text": [
      "Found 13670 images belonging to 2 classes.\n",
      "Found 3417 images belonging to 2 classes.\n",
      "Found 4238 images belonging to 2 classes.\n",
      "WARNING:tensorflow:`input_shape` is undefined or non-square, or `rows` is not in [96, 128, 160, 192, 224]. Weights for input shape (224, 224) will be loaded as the default.\n"
     ]
    },
    {
     "name": "stderr",
     "output_type": "stream",
     "text": [
      "c:\\users\\91965\\appdata\\local\\programs\\python\\python39\\lib\\site-packages\\keras\\engine\\training.py:1972: UserWarning: `Model.fit_generator` is deprecated and will be removed in a future version. Please use `Model.fit`, which supports generators.\n",
      "  warnings.warn('`Model.fit_generator` is deprecated and '\n"
     ]
    },
    {
     "name": "stdout",
     "output_type": "stream",
     "text": [
      "Epoch 1/10\n",
      "427/427 [==============================] - 242s 545ms/step - loss: 0.2553 - accuracy: 0.9073 - val_loss: 0.0368 - val_accuracy: 0.9870\n",
      "\n",
      "Epoch 00001: val_loss improved from inf to 0.03676, saving model to New_models\\MobileNetv2_model.h5\n"
     ]
    },
    {
     "name": "stderr",
     "output_type": "stream",
     "text": [
      "c:\\users\\91965\\appdata\\local\\programs\\python\\python39\\lib\\site-packages\\keras\\utils\\generic_utils.py:494: CustomMaskWarning: Custom mask layers require a config and must override get_config. When loading, the custom mask layer must be passed to the custom_objects argument.\n",
      "  warnings.warn('Custom mask layers require a config and must override '\n"
     ]
    },
    {
     "name": "stdout",
     "output_type": "stream",
     "text": [
      "Epoch 2/10\n",
      "427/427 [==============================] - 132s 309ms/step - loss: 0.1294 - accuracy: 0.9483 - val_loss: 0.0700 - val_accuracy: 0.9705\n",
      "\n",
      "Epoch 00002: val_loss did not improve from 0.03676\n",
      "Epoch 3/10\n",
      "427/427 [==============================] - 109s 255ms/step - loss: 0.1109 - accuracy: 0.9537 - val_loss: 0.0438 - val_accuracy: 0.9867\n",
      "\n",
      "Epoch 00003: val_loss did not improve from 0.03676\n",
      "Epoch 4/10\n",
      "427/427 [==============================] - 109s 256ms/step - loss: 0.0879 - accuracy: 0.9628 - val_loss: 0.0136 - val_accuracy: 0.9959\n",
      "\n",
      "Epoch 00004: val_loss improved from 0.03676 to 0.01364, saving model to New_models\\MobileNetv2_model.h5\n",
      "Epoch 5/10\n",
      "427/427 [==============================] - 110s 258ms/step - loss: 0.0981 - accuracy: 0.9608 - val_loss: 0.0287 - val_accuracy: 0.9888\n",
      "\n",
      "Epoch 00005: val_loss did not improve from 0.01364\n",
      "Epoch 6/10\n",
      "427/427 [==============================] - 115s 269ms/step - loss: 0.0813 - accuracy: 0.9704 - val_loss: 0.0279 - val_accuracy: 0.9915\n",
      "\n",
      "Epoch 00006: val_loss did not improve from 0.01364\n",
      "Epoch 7/10\n",
      "427/427 [==============================] - 65s 151ms/step - loss: 0.0707 - accuracy: 0.9716 - val_loss: 0.0239 - val_accuracy: 0.9912\n",
      "\n",
      "Epoch 00007: val_loss did not improve from 0.01364\n",
      "\n",
      "Epoch 00007: ReduceLROnPlateau reducing learning rate to 0.00010000000474974513.\n",
      "Epoch 8/10\n",
      "427/427 [==============================] - 63s 148ms/step - loss: 0.0593 - accuracy: 0.9746 - val_loss: 0.0163 - val_accuracy: 0.9953\n",
      "\n",
      "Epoch 00008: val_loss did not improve from 0.01364\n",
      "Epoch 9/10\n",
      "427/427 [==============================] - 63s 147ms/step - loss: 0.0493 - accuracy: 0.9789 - val_loss: 0.0250 - val_accuracy: 0.9920\n",
      "\n",
      "Epoch 00009: val_loss did not improve from 0.01364\n",
      "Epoch 10/10\n",
      "427/427 [==============================] - 62s 146ms/step - loss: 0.0473 - accuracy: 0.9805 - val_loss: 0.0227 - val_accuracy: 0.9929\n",
      "\n",
      "Epoch 00010: val_loss did not improve from 0.01364\n",
      "\n",
      "Epoch 00010: ReduceLROnPlateau reducing learning rate to 1.0000000474974514e-05.\n"
     ]
    },
    {
     "name": "stderr",
     "output_type": "stream",
     "text": [
      "c:\\users\\91965\\appdata\\local\\programs\\python\\python39\\lib\\site-packages\\keras\\engine\\training.py:2006: UserWarning: `Model.evaluate_generator` is deprecated and will be removed in a future version. Please use `Model.evaluate`, which supports generators.\n",
      "  warnings.warn('`Model.evaluate_generator` is deprecated and '\n"
     ]
    },
    {
     "name": "stdout",
     "output_type": "stream",
     "text": [
      "0.025281934067606926\n",
      "0.9895391464233398\n",
      "0.02276942878961563\n",
      "0.9932689666748047\n",
      "0.025281934067606926\n",
      "0.9895391464233398\n"
     ]
    }
   ],
   "source": [
    "import tensorflow as tf\n",
    "from tensorflow.keras.applications import MobileNetV2\n",
    "from tensorflow.keras.models import Model\n",
    "from tensorflow.keras.layers import Dropout,Input,Flatten,Dense,MaxPooling2D\n",
    "from tensorflow.keras.preprocessing.image import ImageDataGenerator  # Data Augumentation\n",
    "batchsize=32\n",
    "train_datagen= ImageDataGenerator(rescale=1./255, rotation_range=0.2,shear_range=0.2,\n",
    "    zoom_range=0.2,width_shift_range=0.2,\n",
    "    height_shift_range=0.2, validation_split=0.2)\n",
    "\n",
    "train_data= train_datagen.flow_from_directory(r'Data_set\\Train',\n",
    "                                target_size=(80,80),batch_size=batchsize,class_mode='categorical',subset='training' )\n",
    "\n",
    "validation_data= train_datagen.flow_from_directory(r'Data_set\\Train',\n",
    "                                target_size=(80,80),batch_size=batchsize,class_mode='categorical', subset='validation')\n",
    "test_datagen = ImageDataGenerator(rescale=1./255)\n",
    "\n",
    "test_data = test_datagen.flow_from_directory(r'Data_set\\Test',\n",
    "                                target_size=(80,80),batch_size=batchsize,class_mode='categorical')\n",
    "bmodel = MobileNetV2(include_top=False, weights='imagenet', input_tensor=Input(shape=(80,80,3)))\n",
    "hmodel = bmodel.output\n",
    "hmodel = Flatten()(hmodel)\n",
    "hmodel = Dense(64, activation='relu')(hmodel)\n",
    "hmodel = Dropout(0.5)(hmodel)\n",
    "hmodel = Dense(2,activation= 'softmax')(hmodel)\n",
    "\n",
    "model = Model(inputs=bmodel.input, outputs= hmodel)\n",
    "for layer in bmodel.layers:\n",
    "    layer.trainable = False\n",
    "from tensorflow.keras.callbacks import ModelCheckpoint,EarlyStopping, ReduceLROnPlateau\n",
    "checkpoint = ModelCheckpoint(r'New_models\\MobileNetv2_model.h5',\n",
    "                            monitor='val_loss',save_best_only=True,verbose=3)\n",
    "\n",
    "earlystop = EarlyStopping(monitor = 'val_loss', patience=7, verbose= 3, restore_best_weights=True)\n",
    "\n",
    "learning_rate = ReduceLROnPlateau(monitor= 'val_loss', patience=3, verbose= 3, )\n",
    "\n",
    "callbacks=[checkpoint,earlystop,learning_rate]\n",
    "model.compile(optimizer='Adam', loss='categorical_crossentropy',metrics=['accuracy'])\n",
    "\n",
    "model.fit_generator(train_data,steps_per_epoch=train_data.samples//batchsize,\n",
    "                   validation_data=validation_data,\n",
    "                   validation_steps=validation_data.samples//batchsize,\n",
    "                   callbacks=callbacks,\n",
    "                    epochs=10)\n",
    "acc_tr, loss_tr = model.evaluate_generator(train_data)\n",
    "print(acc_tr)\n",
    "print(loss_tr)\n",
    "acc_vr, loss_vr = model.evaluate_generator(validation_data)\n",
    "print(acc_vr)\n",
    "print(loss_vr)\n",
    "acc_test, loss_test = model.evaluate_generator(test_data)\n",
    "print(acc_tr)\n",
    "print(loss_tr)"
   ]
  },
  {
   "cell_type": "code",
   "execution_count": null,
   "id": "64072344",
   "metadata": {},
   "outputs": [],
   "source": []
  }
 ],
 "metadata": {
  "kernelspec": {
   "display_name": "Python 3 (ipykernel)",
   "language": "python",
   "name": "python3"
  },
  "language_info": {
   "codemirror_mode": {
    "name": "ipython",
    "version": 3
   },
   "file_extension": ".py",
   "mimetype": "text/x-python",
   "name": "python",
   "nbconvert_exporter": "python",
   "pygments_lexer": "ipython3",
   "version": "3.8.3"
  }
 },
 "nbformat": 4,
 "nbformat_minor": 5
}
